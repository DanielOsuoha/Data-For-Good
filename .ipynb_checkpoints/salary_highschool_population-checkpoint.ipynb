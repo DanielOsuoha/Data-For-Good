{
 "cells": [
  {
   "cell_type": "code",
   "execution_count": 3,
   "id": "3ecf1ce8-1ea2-46ef-90f6-906d6491219b",
   "metadata": {
    "tags": []
   },
   "outputs": [],
   "source": [
    "import pandas as pd\n",
    "\n",
    "# Load your CSV\n",
    "df = pd.read_csv(\"shared_data_read_only/MKE_Fellows/Career_Outcomes_Data.csv\", low_memory=False)"
   ]
  },
  {
   "cell_type": "code",
   "execution_count": null,
   "id": "d6ce48d4-3866-426d-838c-22483476d885",
   "metadata": {
    "tags": []
   },
   "outputs": [],
   "source": [
    "# Load your CSV\n",
    "df_education = pd.read_csv(\"shared_data_read_only/MKE_Fellows/Education_Data.csv\", low_memory=False)"
   ]
  },
  {
   "cell_type": "code",
   "execution_count": null,
   "id": "d2b5bcf5-35c1-458d-a771-0d8aa6df697a",
   "metadata": {
    "tags": []
   },
   "outputs": [],
   "source": [
    "\n",
    "# Specify the column names\n",
    "income_column_name = 'Estimate!!INCOME AND BENEFITS (IN 2022 INFLATION-ADJUSTED DOLLARS)!!Total households!!With earnings!!Mean earnings (dollars)'\n",
    "geographic_area_column_name = 'Geographic Area Name'\n",
    "\n",
    "if income_column_name in df.columns and geographic_area_column_name in df.columns:\n",
    "    df[income_column_name] = pd.to_numeric(df[income_column_name], errors='coerce')\n",
    "\n",
    "    median_income = df.groupby(geographic_area_column_name)[income_column_name].median().reset_index()\n",
    "\n",
    "    median_income.columns = [geographic_area_column_name, 'Median Income']\n",
    "\n",
    "    top_50_median_income = median_income.sort_values(by='Median Income', ascending=False).head(50)\n",
    "    \n",
    "    top_50_list = list(top_50_median_income.itertuples(index=False, name=None))\n",
    "\n",
    "    # Print the results\n",
    "    print(top_50_median_income)\n",
    "else:\n",
    "    print(\"One or both of the specified columns do not exist in the DataFrame.\")"
   ]
  },
  {
   "cell_type": "code",
   "execution_count": null,
   "id": "ee471219-d644-4acc-bb72-fcd78ebc90f5",
   "metadata": {
    "tags": []
   },
   "outputs": [],
   "source": [
    "for item in df_education.columns.tolist():\n",
    "    sections = str(item.split(\"!\"))\n",
    "\n",
    "    if \"RACE AND HISPANIC OR LATINO ORIGIN BY EDUCATIONAL ATTAINMENT\" in sections:\n",
    "        print(item)"
   ]
  },
  {
   "cell_type": "code",
   "execution_count": null,
   "id": "35331a9c-d55c-4ff2-90aa-c1aabb40acb3",
   "metadata": {
    "tags": []
   },
   "outputs": [],
   "source": [
    "grad_column_name = 'Estimate!!Percent Male!!RACE AND HISPANIC OR LATINO ORIGIN BY EDUCATIONAL ATTAINMENT!!Black alone!!High school graduate or higher'\n",
    "geographic_area_column_name_education = 'Geographic Area Name'\n",
    "\n",
    "# Convert the specified column to numeric (if it isn't already)\n",
    "df_education[grad_column_name] = pd.to_numeric(df_education[grad_column_name], errors='coerce')\n",
    "\n",
    "# Group by geographic area and get the minimum percentage of high school graduates\n",
    "min_grad_percent = df_education.groupby(geographic_area_column_name_education)[grad_column_name].min()\n",
    "\n",
    "# Filter out the zero values\n",
    "min_grad_percent_non_zero = min_grad_percent[min_grad_percent > 0]\n",
    "\n",
    "# Get the lowest 50 percentages that are not zero\n",
    "lowest_50_grad_percent_non_zero = min_grad_percent_non_zero.nsmallest(50)\n",
    "\n",
    "# Print the result\n",
    "print(lowest_50_grad_percent_non_zero)\n",
    "# Print the result\n",
    "print(count_zero_grad_percent)\n",
    "print(non_zero)"
   ]
  },
  {
   "cell_type": "code",
   "execution_count": null,
   "id": "d6a8d3c6-39e3-489c-b929-fe23304bd138",
   "metadata": {
    "tags": []
   },
   "outputs": [],
   "source": [
    "grad_column_name = 'Estimate!!Percent Male!!RACE AND HISPANIC OR LATINO ORIGIN BY EDUCATIONAL ATTAINMENT!!Black alone!!High school graduate or higher'\n",
    "geographic_area_column_name_education = 'Geographic Area Name'\n",
    "\n",
    "# Convert the specified columns to numeric (if they aren't already)\n",
    "df_education[grad_column_name] = pd.to_numeric(df_education[grad_column_name], errors='coerce')\n",
    "df_education[male_column_name] = pd.to_numeric(df_education[male_column_name], errors='coerce')\n",
    "\n",
    "# Create a new column for the ratio of high school graduates to total males,\n",
    "# ensuring no division by zero occurs\n",
    "df_education['Graduation to Male Ratio'] = np.where(\n",
    "    (df_education[grad_column_name] > 0) & (df_education[male_column_name] > 0),\n",
    "    df_education[grad_column_name],\n",
    "    np.nan  # Assign NaN if male_column_name is zero or negative\n",
    ")\n",
    "\n",
    "# Group by geographic area and get the minimum ratio\n",
    "min_ratio = df_education.groupby(geographic_area_column_name_education)['Graduation to Male Ratio'].min()\n",
    "\n",
    "# Get the lowest 50 ratios\n",
    "lowest_50_ratios = min_ratio.nsmallest(50)\n",
    "\n",
    "# Print the result\n",
    "print(lowest_50_ratios)"
   ]
  },
  {
   "cell_type": "code",
   "execution_count": 12,
   "id": "ed74373b-6114-4a87-924a-b9672e8083f8",
   "metadata": {
    "tags": []
   },
   "outputs": [],
   "source": [
    "df_census = pd.read_csv(\"shared_data_read_only/MKE_Fellows/Census_Data.csv\", low_memory=False)\n"
   ]
  },
  {
   "cell_type": "code",
   "execution_count": 18,
   "id": "d8bdf9d0-c9b6-47ef-af77-d6091fd420fd",
   "metadata": {
    "tags": []
   },
   "outputs": [
    {
     "name": "stdout",
     "output_type": "stream",
     "text": [
      "One or both of the specified columns do not exist in the DataFrame.\n"
     ]
    }
   ],
   "source": [
    "# Specify the column names\n",
    "column_names = df_census.iloc[0]\n",
    "df_census.columns = column_names\n",
    "\n",
    "# Assuming df_education is your DataFrame\n",
    "household_column_name = 'Estimate!!Total!!Households!!RACE AND HISPANIC OR LATINO ORIGIN OF HOUSEHOLDER!!Black or African American alone'\n",
    "geographic_area_column_name = 'Geographic Area Name'\n",
    "if household_column_name in df_census.columns and geographic_area_column_name in df_census.columns:\n",
    "    df_census[household_column_name] = pd.to_numeric(df_census[household_column_name], errors='coerce')\n",
    "\n",
    "    median_income = df_census.groupby(geographic_area_column_name)[household_column_name].median().reset_index()\n",
    "\n",
    "    median_income.columns = [geographic_area_column_name, 'Median Income']\n",
    "\n",
    "    top_50_median_income = median_income.sort_values(by='Median Income', ascending=False).head(50)\n",
    "    \n",
    "    top_50_list = list(top_50_median_income.itertuples(index=False, name=None))\n",
    "\n",
    "    # Print the results\n",
    "    print(top_50_median_income)\n",
    "else:\n",
    "    print(\"One or both of the specified columns do not exist in the DataFrame.\")"
   ]
  },
  {
   "cell_type": "code",
   "execution_count": 1,
   "id": "d944e56c-f231-4b7a-b53f-eae14fbb5a95",
   "metadata": {
    "tags": []
   },
   "outputs": [
    {
     "name": "stdout",
     "output_type": "stream",
     "text": [
      "hello\n"
     ]
    }
   ],
   "source": [
    "print(\"hello\")"
   ]
  },
  {
   "cell_type": "code",
   "execution_count": null,
   "id": "b1bf7d4f-c7e2-4720-9c22-635344045256",
   "metadata": {},
   "outputs": [],
   "source": []
  }
 ],
 "metadata": {
  "kernelspec": {
   "display_name": "Python 3 (ipykernel)",
   "language": "python",
   "name": "python3"
  },
  "language_info": {
   "codemirror_mode": {
    "name": "ipython",
    "version": 3
   },
   "file_extension": ".py",
   "mimetype": "text/x-python",
   "name": "python",
   "nbconvert_exporter": "python",
   "pygments_lexer": "ipython3",
   "version": "3.10.10"
  }
 },
 "nbformat": 4,
 "nbformat_minor": 5
}
