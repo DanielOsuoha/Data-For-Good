{
 "cells": [
  {
   "cell_type": "code",
   "execution_count": 1,
   "id": "2d7336b5-0b12-4254-a6ec-58b110a83df2",
   "metadata": {
    "tags": []
   },
   "outputs": [],
   "source": [
    "import pandas as pd\n",
    "import numpy as np"
   ]
  },
  {
   "cell_type": "code",
   "execution_count": 2,
   "id": "3c10c737-180f-46d3-a813-96baabe76950",
   "metadata": {
    "tags": []
   },
   "outputs": [],
   "source": [
    "df_education = pd.read_csv(\"shared_data_read_only/MKE_Fellows/Education_Data.csv\", low_memory=False)"
   ]
  },
  {
   "cell_type": "code",
   "execution_count": 3,
   "id": "1c6ad370-7fcc-40db-99a3-219281fa4604",
   "metadata": {
    "tags": []
   },
   "outputs": [],
   "source": [
    "df_census = pd.read_csv(\"shared_data_read_only/MKE_Fellows/Census_Data.csv\", low_memory=False)"
   ]
  },
  {
   "cell_type": "code",
   "execution_count": 6,
   "id": "5dea59de-4ed1-4efa-aca7-1dbb128a2941",
   "metadata": {
    "tags": []
   },
   "outputs": [],
   "source": [
    "column_names = df_education.iloc[0]\n",
    "df_education.columns = column_names"
   ]
  },
  {
   "cell_type": "code",
   "execution_count": 8,
   "id": "e39bd902-9466-4e8c-baed-eb1870211e21",
   "metadata": {
    "tags": []
   },
   "outputs": [],
   "source": [
    "column_names = df_census.iloc[0]\n",
    "df_census.columns = column_names"
   ]
  },
  {
   "cell_type": "code",
   "execution_count": 7,
   "id": "6c59ae50-54c0-46bf-91bb-3ccbe2e0ede7",
   "metadata": {
    "tags": []
   },
   "outputs": [],
   "source": [
    "grad_column_name = 'Estimate!!Percent Male!!RACE AND HISPANIC OR LATINO ORIGIN BY EDUCATIONAL ATTAINMENT!!Black alone!!High school graduate or higher'\n",
    "df_education[grad_column_name] = pd.to_numeric(df_education[grad_column_name], errors='coerce')\n"
   ]
  },
  {
   "cell_type": "code",
   "execution_count": 9,
   "id": "3a1fc333-5492-48a0-8b66-803722842663",
   "metadata": {
    "tags": []
   },
   "outputs": [],
   "source": [
    "household_column_name = 'Estimate!!Total!!Households!!RACE AND HISPANIC OR LATINO ORIGIN OF HOUSEHOLDER!!Black or African American alone'\n",
    "df_census[household_column_name] = pd.to_numeric(df_census[household_column_name], errors='coerce')"
   ]
  },
  {
   "cell_type": "code",
   "execution_count": 10,
   "id": "596a0e5b-d312-4d2a-ad2b-a47c353704a9",
   "metadata": {
    "tags": []
   },
   "outputs": [],
   "source": [
    "geographic_area_column_name_census = 'Geographic Area Name'\n"
   ]
  },
  {
   "cell_type": "code",
   "execution_count": 12,
   "id": "85a23d78-7d16-4278-bb4c-d58d16a9af31",
   "metadata": {
    "tags": []
   },
   "outputs": [],
   "source": [
    "geographic_area_column_name_education = 'Geographic Area Name'\n"
   ]
  },
  {
   "cell_type": "code",
   "execution_count": 13,
   "id": "a5faeabe-4af7-441b-8650-6a9b5ff6873a",
   "metadata": {
    "tags": []
   },
   "outputs": [
    {
     "name": "stdout",
     "output_type": "stream",
     "text": [
      "0                                   Geographic Area Name  \\\n",
      "35267     Census Tract 8509.04; Charles County; Maryland   \n",
      "25611           Census Tract 4314; Cook County; Illinois   \n",
      "66095  Census Tract 114; Philadelphia County; Pennsyl...   \n",
      "52572        Census Tract 236; New York County; New York   \n",
      "66216  Census Tract 252; Philadelphia County; Pennsyl...   \n",
      "35760  Census Tract 8005.21; Prince George's County; ...   \n",
      "73618         Census Tract 3309.01; Harris County; Texas   \n",
      "70118         Census Tract 227; Shelby County; Tennessee   \n",
      "66061  Census Tract 82; Philadelphia County; Pennsylv...   \n",
      "73663         Census Tract 3341.01; Harris County; Texas   \n",
      "68218  Census Tract 114.17; Richland County; South Ca...   \n",
      "53394       Census Tract 334.04; Queens County; New York   \n",
      "25627           Census Tract 4605; Cook County; Illinois   \n",
      "26364        Census Tract 8300.03; Cook County; Illinois   \n",
      "35767  Census Tract 8007.01; Prince George's County; ...   \n",
      "52544        Census Tract 210; New York County; New York   \n",
      "66231  Census Tract 266; Philadelphia County; Pennsyl...   \n",
      "66065  Census Tract 85; Philadelphia County; Pennsylv...   \n",
      "56147  Census Tract 128.03; Guilford County; North Ca...   \n",
      "66232  Census Tract 267; Philadelphia County; Pennsyl...   \n",
      "25600           Census Tract 4302; Cook County; Illinois   \n",
      "52565        Census Tract 230; New York County; New York   \n",
      "35859  Census Tract 8035.14; Prince George's County; ...   \n",
      "66082  Census Tract 101; Philadelphia County; Pennsyl...   \n",
      "36143        Census Tract 1511; Baltimore city; Maryland   \n",
      "35822  Census Tract 8019.05; Prince George's County; ...   \n",
      "79011     Census Tract 2010.03; Henrico County; Virginia   \n",
      "70059      Census Tract 213.54; Shelby County; Tennessee   \n",
      "66048  Census Tract 67; Philadelphia County; Pennsylv...   \n",
      "35861  Census Tract 8035.19; Prince George's County; ...   \n",
      "68238  Census Tract 119.01; Richland County; South Ca...   \n",
      "35765  Census Tract 8006.08; Prince George's County; ...   \n",
      "73617         Census Tract 3308.02; Harris County; Texas   \n",
      "21777       Census Tract 405.19; Clayton County; Georgia   \n",
      "25614        Census Tract 4402.01; Cook County; Illinois   \n",
      "34910  Census Tract 7403.05; Anne Arundel County; Mar...   \n",
      "68224  Census Tract 114.23; Richland County; South Ca...   \n",
      "36201     Census Tract 2603.02; Baltimore city; Maryland   \n",
      "36230     Census Tract 2708.03; Baltimore city; Maryland   \n",
      "51219           Census Tract 307; Kings County; New York   \n",
      "26404           Census Tract 8343; Cook County; Illinois   \n",
      "68209  Census Tract 113.04; Richland County; South Ca...   \n",
      "25482           Census Tract 2520; Cook County; Illinois   \n",
      "36198     Census Tract 2602.02; Baltimore city; Maryland   \n",
      "35863  Census Tract 8035.21; Prince George's County; ...   \n",
      "23601      Census Tract 107.01; Muscogee County; Georgia   \n",
      "36229     Census Tract 2708.02; Baltimore city; Maryland   \n",
      "69936       Census Tract 78.21; Shelby County; Tennessee   \n",
      "25612        Census Tract 4401.01; Cook County; Illinois   \n",
      "16057  Census Tract 78.03; District of Columbia; Dist...   \n",
      "\n",
      "0      Estimate!!Percent Male!!RACE AND HISPANIC OR LATINO ORIGIN BY EDUCATIONAL ATTAINMENT!!Black alone!!High school graduate or higher  \\\n",
      "35267                                               96.6                                                                                   \n",
      "25611                                               77.0                                                                                   \n",
      "66095                                               87.7                                                                                   \n",
      "52572                                               94.0                                                                                   \n",
      "66216                                               79.1                                                                                   \n",
      "35760                                               95.5                                                                                   \n",
      "73618                                              100.0                                                                                   \n",
      "70118                                               87.3                                                                                   \n",
      "66061                                               92.4                                                                                   \n",
      "73663                                              100.0                                                                                   \n",
      "68218                                              100.0                                                                                   \n",
      "53394                                               90.6                                                                                   \n",
      "25627                                               93.6                                                                                   \n",
      "26364                                               96.2                                                                                   \n",
      "35767                                               96.9                                                                                   \n",
      "52544                                               77.4                                                                                   \n",
      "66231                                               76.4                                                                                   \n",
      "66065                                               95.5                                                                                   \n",
      "56147                                               93.0                                                                                   \n",
      "66232                                               84.8                                                                                   \n",
      "25600                                               91.7                                                                                   \n",
      "52565                                               66.9                                                                                   \n",
      "35859                                              100.0                                                                                   \n",
      "66082                                               92.4                                                                                   \n",
      "36143                                               84.3                                                                                   \n",
      "35822                                               95.5                                                                                   \n",
      "79011                                               82.9                                                                                   \n",
      "70059                                              100.0                                                                                   \n",
      "66048                                               83.3                                                                                   \n",
      "35861                                               89.4                                                                                   \n",
      "68238                                               91.6                                                                                   \n",
      "35765                                               97.6                                                                                   \n",
      "73617                                               96.2                                                                                   \n",
      "21777                                               86.6                                                                                   \n",
      "25614                                               94.1                                                                                   \n",
      "34910                                              100.0                                                                                   \n",
      "68224                                               83.0                                                                                   \n",
      "36201                                               85.2                                                                                   \n",
      "36230                                               90.4                                                                                   \n",
      "51219                                               71.5                                                                                   \n",
      "26404                                              100.0                                                                                   \n",
      "68209                                               82.4                                                                                   \n",
      "25482                                               70.8                                                                                   \n",
      "36198                                               94.7                                                                                   \n",
      "35863                                               91.5                                                                                   \n",
      "23601                                               91.4                                                                                   \n",
      "36229                                               89.9                                                                                   \n",
      "69936                                               82.2                                                                                   \n",
      "25612                                               82.7                                                                                   \n",
      "16057                                               73.5                                                                                   \n",
      "\n",
      "0      Estimate!!Total!!Households!!RACE AND HISPANIC OR LATINO ORIGIN OF HOUSEHOLDER!!Black or African American alone  \n",
      "35267                                             3108.0                                                                \n",
      "25611                                             3073.0                                                                \n",
      "66095                                             3056.0                                                                \n",
      "52572                                             3015.0                                                                \n",
      "66216                                             3003.0                                                                \n",
      "35760                                             2962.0                                                                \n",
      "73618                                             2885.0                                                                \n",
      "70118                                             2829.0                                                                \n",
      "66061                                             2822.0                                                                \n",
      "73663                                             2817.0                                                                \n",
      "68218                                             2775.0                                                                \n",
      "53394                                             2713.0                                                                \n",
      "25627                                             2702.0                                                                \n",
      "26364                                             2687.0                                                                \n",
      "35767                                             2682.0                                                                \n",
      "52544                                             2655.0                                                                \n",
      "66231                                             2627.0                                                                \n",
      "66065                                             2551.0                                                                \n",
      "56147                                             2542.0                                                                \n",
      "66232                                             2541.0                                                                \n",
      "25600                                             2528.0                                                                \n",
      "52565                                             2526.0                                                                \n",
      "35859                                             2517.0                                                                \n",
      "66082                                             2511.0                                                                \n",
      "36143                                             2507.0                                                                \n",
      "35822                                             2505.0                                                                \n",
      "79011                                             2483.0                                                                \n",
      "70059                                             2479.0                                                                \n",
      "66048                                             2470.0                                                                \n",
      "35861                                             2446.0                                                                \n",
      "68238                                             2446.0                                                                \n",
      "35765                                             2434.0                                                                \n",
      "73617                                             2429.0                                                                \n",
      "21777                                             2418.0                                                                \n",
      "25614                                             2379.0                                                                \n",
      "34910                                             2371.0                                                                \n",
      "68224                                             2370.0                                                                \n",
      "36201                                             2368.0                                                                \n",
      "36230                                             2361.0                                                                \n",
      "51219                                             2340.0                                                                \n",
      "26404                                             2339.0                                                                \n",
      "68209                                             2338.0                                                                \n",
      "25482                                             2335.0                                                                \n",
      "36198                                             2329.0                                                                \n",
      "35863                                             2327.0                                                                \n",
      "23601                                             2325.0                                                                \n",
      "36229                                             2324.0                                                                \n",
      "69936                                             2323.0                                                                \n",
      "25612                                             2308.0                                                                \n",
      "16057                                             2296.0                                                                \n"
     ]
    }
   ],
   "source": [
    "\n",
    "# Merge the two dataframes on the geographic area name\n",
    "df_merged = pd.merge(df_education, df_census, left_on=geographic_area_column_name_education, right_on=geographic_area_column_name_census, how='inner')\n",
    "\n",
    "# Sort by household numbers (highest first) and then graduation rate (lowest first)\n",
    "df_sorted = df_merged.sort_values(by=[household_column_name, grad_column_name], ascending=[False, True])\n",
    "\n",
    "# Get the top 50 geographic areas with the highest households and lowest graduation rates\n",
    "top_50_lowest_grad_high_household = df_sorted.head(50)\n",
    "\n",
    "# Print the result\n",
    "print(top_50_lowest_grad_high_household[[geographic_area_column_name_education, grad_column_name, household_column_name]])\n"
   ]
  },
  {
   "cell_type": "code",
   "execution_count": null,
   "id": "064be514-41ea-4f82-9798-ed23514f47bd",
   "metadata": {},
   "outputs": [],
   "source": []
  }
 ],
 "metadata": {
  "kernelspec": {
   "display_name": "Python 3 (ipykernel)",
   "language": "python",
   "name": "python3"
  },
  "language_info": {
   "codemirror_mode": {
    "name": "ipython",
    "version": 3
   },
   "file_extension": ".py",
   "mimetype": "text/x-python",
   "name": "python",
   "nbconvert_exporter": "python",
   "pygments_lexer": "ipython3",
   "version": "3.10.10"
  }
 },
 "nbformat": 4,
 "nbformat_minor": 5
}
