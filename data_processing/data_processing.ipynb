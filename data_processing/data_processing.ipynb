{
 "cells": [
  {
   "cell_type": "code",
   "execution_count": 25,
   "id": "2d7336b5-0b12-4254-a6ec-58b110a83df2",
   "metadata": {
    "tags": []
   },
   "outputs": [],
   "source": [
    "# This notebook conglomerates our different data into one csv with the cities of interest.\n",
    "import pandas as pd\n",
    "import numpy as np"
   ]
  },
  {
   "cell_type": "code",
   "execution_count": 26,
   "id": "3c10c737-180f-46d3-a813-96baabe76950",
   "metadata": {
    "tags": []
   },
   "outputs": [],
   "source": [
    "df_education = pd.read_csv(\"shared_data_read_only/MKE_Fellows/Education_Data.csv\", low_memory=False)"
   ]
  },
  {
   "cell_type": "code",
   "execution_count": 27,
   "id": "1c6ad370-7fcc-40db-99a3-219281fa4604",
   "metadata": {
    "tags": []
   },
   "outputs": [],
   "source": [
    "df_census = pd.read_csv(\"shared_data_read_only/MKE_Fellows/Census_Data.csv\", low_memory=False)"
   ]
  },
  {
   "cell_type": "code",
   "execution_count": 28,
   "id": "064be514-41ea-4f82-9798-ed23514f47bd",
   "metadata": {},
   "outputs": [],
   "source": [
    "df_salary = pd.read_csv(\"shared_data_read_only/MKE_Fellows/Career_Outcomes_Data.csv\", low_memory=False)"
   ]
  },
  {
   "cell_type": "code",
   "execution_count": 32,
   "id": "9710c088-7e02-41d6-a753-4a4f60cab2cc",
   "metadata": {
    "tags": []
   },
   "outputs": [],
   "source": [
    "# Create Geographic Area Name column for nonprofits df\n",
    "df_nonprofits = pd.read_csv(\"test/Team-13/raw_data/educational_services_counties_sorted.csv\", low_memory=False)\n",
    "\n",
    "df_nonprofits[\"fipstate_mapped\"] = df_nonprofits[\"fipstate_mapped\"].str.capitalize()\n",
    "\n",
    "df_nonprofits[\"Geographic Area Name\"] = df_nonprofits[\"county\"] + \", \" + df_nonprofits[\"fipstate_mapped\"]\n",
    "\n",
    "df_nonprofits = df_nonprofits.drop(columns=['fipstate_mapped', 'county'])"
   ]
  },
  {
   "cell_type": "code",
   "execution_count": 33,
   "id": "fdefcd10-06ac-4072-8122-3d1dce2ce73f",
   "metadata": {
    "tags": []
   },
   "outputs": [],
   "source": [
    "df_internship_listings = pd.read_csv(\"test/Team-13/raw_data/internships_by_county.csv\")"
   ]
  },
  {
   "cell_type": "code",
   "execution_count": 34,
   "id": "5dea59de-4ed1-4efa-aca7-1dbb128a2941",
   "metadata": {
    "tags": []
   },
   "outputs": [],
   "source": [
    "column_names = df_education.iloc[0]\n",
    "df_education.columns = column_names"
   ]
  },
  {
   "cell_type": "code",
   "execution_count": 35,
   "id": "e39bd902-9466-4e8c-baed-eb1870211e21",
   "metadata": {
    "tags": []
   },
   "outputs": [],
   "source": [
    "column_names = df_census.iloc[0]\n",
    "df_census.columns = column_names"
   ]
  },
  {
   "cell_type": "code",
   "execution_count": 36,
   "id": "6c59ae50-54c0-46bf-91bb-3ccbe2e0ede7",
   "metadata": {
    "tags": []
   },
   "outputs": [],
   "source": [
    "# High school grad or higher rate in black males\n",
    "grad_column_name = 'Estimate!!Percent Male!!RACE AND HISPANIC OR LATINO ORIGIN BY EDUCATIONAL ATTAINMENT!!Black alone!!High school graduate or higher'\n",
    "df_education[grad_column_name] = pd.to_numeric(df_education[grad_column_name], errors='coerce')\n",
    "\n",
    "# Bachelors degree or higher rate in black males\n",
    "college_grad_column_name = \"Estimate!!Percent Male!!RACE AND HISPANIC OR LATINO ORIGIN BY EDUCATIONAL ATTAINMENT!!Black alone!!Bachelor's degree or higher\"\n",
    "df_education[college_grad_column_name] = pd.to_numeric(df_education[college_grad_column_name], errors='coerce')\n"
   ]
  },
  {
   "cell_type": "code",
   "execution_count": 37,
   "id": "3a1fc333-5492-48a0-8b66-803722842663",
   "metadata": {
    "tags": []
   },
   "outputs": [],
   "source": [
    "# Num black households\n",
    "household_column_name = 'Estimate!!Total!!Households!!RACE AND HISPANIC OR LATINO ORIGIN OF HOUSEHOLDER!!Black or African American alone'\n",
    "df_census[household_column_name] = pd.to_numeric(df_census[household_column_name], errors='coerce')"
   ]
  },
  {
   "cell_type": "code",
   "execution_count": 38,
   "id": "596a0e5b-d312-4d2a-ad2b-a47c353704a9",
   "metadata": {
    "tags": []
   },
   "outputs": [],
   "source": [
    "geographic_area_column = 'Geographic Area Name'\n"
   ]
  },
  {
   "cell_type": "code",
   "execution_count": 39,
   "id": "9afdfc04-5772-4502-ace3-78bfd5f971b3",
   "metadata": {
    "tags": []
   },
   "outputs": [],
   "source": [
    "column_names = df_salary.iloc[0]\n",
    "df_salary.columns = column_names"
   ]
  },
  {
   "cell_type": "code",
   "execution_count": 40,
   "id": "6b3e4a70-21f5-48b9-9e56-94095e2341c2",
   "metadata": {
    "tags": []
   },
   "outputs": [],
   "source": [
    "# Total household earnings\n",
    "income_column_name = 'Estimate!!INCOME AND BENEFITS (IN 2022 INFLATION-ADJUSTED DOLLARS)!!Total households!!With earnings!!Mean earnings (dollars)'\n",
    "\n",
    "df_salary[income_column_name] = pd.to_numeric(df_salary[income_column_name], errors='coerce')\n",
    "\n",
    "median_income = df_salary.groupby(geographic_area_column)[income_column_name].median().reset_index()\n",
    "\n",
    "median_income.columns = [geographic_area_column, 'Median Income']"
   ]
  },
  {
   "cell_type": "code",
   "execution_count": 41,
   "id": "a5faeabe-4af7-441b-8650-6a9b5ff6873a",
   "metadata": {
    "tags": []
   },
   "outputs": [],
   "source": [
    "# Merge our data sets using Geographic Area Name as an identiifier\n",
    "df_merged = pd.merge(df_education, df_census, left_on=geographic_area_column, right_on=geographic_area_column, how='inner')\n",
    "df_merged = pd.merge(df_merged, df_salary, left_on=geographic_area_column, right_on=geographic_area_column, how='inner')\n"
   ]
  },
  {
   "cell_type": "code",
   "execution_count": 42,
   "id": "13796902-c4f0-4e55-8687-4d4e3b15ffce",
   "metadata": {
    "tags": []
   },
   "outputs": [],
   "source": [
    "# Remove unneeded columns\n",
    "columns_to_keep = [geographic_area_column, grad_column_name, college_grad_column_name, income_column_name, household_column_name]\n",
    "new_df = df_merged[columns_to_keep]\n",
    "\n",
    "# Rename the columns for clarity\n",
    "new_column_names = {\n",
    "    geographic_area_column: 'Geographic Area Name',\n",
    "    grad_column_name: 'High School Graduate or Higher % for Black Males',\n",
    "    college_grad_column_name: \"Bachelor's Degree or Higher % for Black Males\",\n",
    "    income_column_name: 'Median Total Household Earnings',\n",
    "    household_column_name: 'Total Households for Black Americans'\n",
    "}\n",
    "\n",
    "new_df = new_df.rename(columns=new_column_names)\n",
    "new_df = new_df.iloc[1:].reset_index(drop=True)\n"
   ]
  },
  {
   "cell_type": "code",
   "execution_count": 43,
   "id": "0f4128cc-3c52-464b-a5c8-9f6561b9bf5f",
   "metadata": {},
   "outputs": [],
   "source": [
    "# Counties have different \"tracts\", combine all of these tracts into one county entry.\n",
    "new_df['County'] = new_df['Geographic Area Name'].apply(lambda x: x.split(';')[1].strip())\n",
    "new_df['State'] = new_df['Geographic Area Name'].apply(lambda x: x.split(';')[2].strip())\n",
    "\n",
    "def weighted_avg(df, val_col, weight_col):\n",
    "    total_weight = df[weight_col].sum()\n",
    "    if total_weight == 0:  # Check if total weight is zero\n",
    "        return 0  # Return 0 or an appropriate value for this case\n",
    "    return (df[val_col] * df[weight_col]).sum() / total_weight\n",
    "\n",
    "df_combined = new_df.groupby(['County', 'State']).agg({\n",
    "    'Median Total Household Earnings': 'mean',\n",
    "    'Total Households for Black Americans': 'sum'\n",
    "}).reset_index()\n",
    "\n",
    "# Average out the tracts into a single county entry for High School Grad Rate\n",
    "df_combined['High School Graduate or Higher % for Black Males'] = new_df.groupby(['County', 'State']).apply(\n",
    "    lambda x: weighted_avg(x, 'High School Graduate or Higher % for Black Males', 'Total Households for Black Americans')\n",
    ").reset_index(drop=True)\n",
    "\n",
    "# Average out the tracts into a single county entry for Bachelor's Degree Grad Rate\n",
    "df_combined[\"Bachelor's Degree or Higher % for Black Males\"] = new_df.groupby(['County', 'State']).apply(\n",
    "    lambda x: weighted_avg(x, \"Bachelor's Degree or Higher % for Black Males\", 'Total Households for Black Americans')\n",
    ").reset_index(drop=True)\n",
    "\n",
    "df_combined.rename(columns={'County': 'Geographic Area Name'}, inplace=True)\n",
    "\n",
    "df_combined['Geographic Area Name'] = df_combined['Geographic Area Name'] + ', ' + df_combined['State']\n",
    "\n",
    "df_combined.drop(columns='State', inplace=True)\n",
    "\n",
    "# List of Counties we will consider in our final dataset\n",
    "desired_counties = ['Harris County, Texas', 'Cook County, Illinois', \"Los Angeles County, California\", \"Orange County, California\", \"Philadelphia County, Pennsylvania\", \"King County, Washington\", \"Kings County, California\"]  # Add your desired county names here\n",
    "\n",
    "# Filter to include only the desired counties\n",
    "df_filtered = df_combined[df_combined['Geographic Area Name'].isin(desired_counties)]\n",
    "\n",
    "\n",
    "df_filtered = pd.merge(df_filtered, df_nonprofits, left_on=geographic_area_column, right_on=geographic_area_column, how='inner')\n",
    "df_filtered = pd.merge(df_filtered, df_internship_listings, left_on=geographic_area_column, right_on=geographic_area_column, how='left')\n"
   ]
  },
  {
   "cell_type": "code",
   "execution_count": 45,
   "id": "2dea6ae5-3b8c-4e3e-8e9d-7483c24cc508",
   "metadata": {
    "tags": []
   },
   "outputs": [
    {
     "name": "stdout",
     "output_type": "stream",
     "text": [
      "                Geographic Area Name  Median Total Household Earnings  \\\n",
      "0              Cook County, Illinois                    111894.560241   \n",
      "1               Harris County, Texas                    100314.270758   \n",
      "2            King County, Washington                    162934.105263   \n",
      "3           Kings County, California                     81824.241379   \n",
      "4     Los Angeles County, California                    117089.302600   \n",
      "5          Orange County, California                    146437.659574   \n",
      "6  Philadelphia County, Pennsylvania                     89702.958656   \n",
      "\n",
      "   Total Households for Black Americans  \\\n",
      "0                              480816.0   \n",
      "1                              351926.0   \n",
      "2                               54765.0   \n",
      "3                                2554.0   \n",
      "4                              311590.0   \n",
      "5                               19013.0   \n",
      "6                              261888.0   \n",
      "\n",
      "   High School Graduate or Higher % for Black Males  \\\n",
      "0                                         87.128872   \n",
      "1                                         90.147416   \n",
      "2                                         90.310961   \n",
      "3                                         90.883829   \n",
      "4                                         89.293608   \n",
      "5                                         86.246552   \n",
      "6                                         86.345245   \n",
      "\n",
      "   Bachelor's Degree or Higher % for Black Males                 naics   est  \\\n",
      "0                                      22.412331  Educational Services  2209   \n",
      "1                                      25.941160  Educational Services  1385   \n",
      "2                                      30.269802  Educational Services  1489   \n",
      "3                                      27.547729  Educational Services    19   \n",
      "4                                      27.498474  Educational Services  4548   \n",
      "5                                      36.224005  Educational Services  1779   \n",
      "6                                      17.777158  Educational Services   597   \n",
      "\n",
      "   Internship Postings by County (in Thousands)  \n",
      "0                                          25.0  \n",
      "1                                          21.0  \n",
      "2                                           9.0  \n",
      "3                                           NaN  \n",
      "4                                          14.0  \n",
      "5                                           8.0  \n",
      "6                                           6.0  \n"
     ]
    }
   ],
   "source": [
    "df_filtered.to_csv('test/Team-13/data_processing/county_data.csv', index=False, na_rep='N/A')\n",
    "print(df_filtered)"
   ]
  }
 ],
 "metadata": {
  "kernelspec": {
   "display_name": "Python 3 (ipykernel)",
   "language": "python",
   "name": "python3"
  },
  "language_info": {
   "codemirror_mode": {
    "name": "ipython",
    "version": 3
   },
   "file_extension": ".py",
   "mimetype": "text/x-python",
   "name": "python",
   "nbconvert_exporter": "python",
   "pygments_lexer": "ipython3",
   "version": "3.10.10"
  }
 },
 "nbformat": 4,
 "nbformat_minor": 5
}
