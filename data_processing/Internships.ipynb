{
 "cells": [
  {
   "cell_type": "code",
   "execution_count": 2,
   "id": "573b1496-d87c-4bb7-ad4f-98d1a74bb453",
   "metadata": {
    "tags": []
   },
   "outputs": [
    {
     "name": "stdout",
     "output_type": "stream",
     "text": [
      "Requirement already satisfied: pandas in ./.local/lib/python3.10/site-packages (2.2.3)\n",
      "Requirement already satisfied: numpy>=1.22.4 in /opt/tljh/user/lib/python3.10/site-packages (from pandas) (1.26.4)\n",
      "Requirement already satisfied: python-dateutil>=2.8.2 in /opt/tljh/user/lib/python3.10/site-packages (from pandas) (2.8.2)\n",
      "Requirement already satisfied: pytz>=2020.1 in /opt/tljh/user/lib/python3.10/site-packages (from pandas) (2023.3.post1)\n",
      "Requirement already satisfied: tzdata>=2022.7 in ./.local/lib/python3.10/site-packages (from pandas) (2024.2)\n",
      "Requirement already satisfied: six>=1.5 in /opt/tljh/user/lib/python3.10/site-packages (from python-dateutil>=2.8.2->pandas) (1.16.0)\n",
      "Note: you may need to restart the kernel to use updated packages.\n"
     ]
    }
   ],
   "source": [
    "pip install pandas "
   ]
  },
  {
   "cell_type": "code",
   "execution_count": 3,
   "id": "eae6fb4e-feb2-43de-a23f-dea3b5f9d82d",
   "metadata": {
    "tags": []
   },
   "outputs": [
    {
     "name": "stdout",
     "output_type": "stream",
     "text": [
      "Requirement already satisfied: pip in /opt/tljh/user/lib/python3.10/site-packages (24.2)\n",
      "Note: you may need to restart the kernel to use updated packages.\n"
     ]
    }
   ],
   "source": [
    "pip install --upgrade pip #upgrade pip "
   ]
  },
  {
   "cell_type": "code",
   "execution_count": 4,
   "id": "b8ca26e5-7cc6-4104-bbc7-d403dfa0e479",
   "metadata": {
    "tags": []
   },
   "outputs": [],
   "source": [
    "import pandas as pd #import module "
   ]
  },
  {
   "cell_type": "code",
   "execution_count": 5,
   "id": "9c11b6b4-04fb-4dcd-93c4-75502c1fe74d",
   "metadata": {
    "tags": []
   },
   "outputs": [
    {
     "name": "stdout",
     "output_type": "stream",
     "text": [
      "Requirement already satisfied: pyspark in /opt/tljh/user/lib/python3.10/site-packages (3.5.3)\n",
      "Requirement already satisfied: py4j==0.10.9.7 in /opt/tljh/user/lib/python3.10/site-packages (from pyspark) (0.10.9.7)\n",
      "Note: you may need to restart the kernel to use updated packages.\n"
     ]
    }
   ],
   "source": [
    "pip install pyspark #install pysparks "
   ]
  },
  {
   "cell_type": "code",
   "execution_count": 6,
   "id": "10498dc9-a858-4dba-b1fe-b0990c8139e1",
   "metadata": {
    "tags": []
   },
   "outputs": [
    {
     "name": "stdout",
     "output_type": "stream",
     "text": [
      "Requirement already satisfied: pyspark in /opt/tljh/user/lib/python3.10/site-packages (3.5.3)\n",
      "Requirement already satisfied: findspark in /opt/tljh/user/lib/python3.10/site-packages (2.0.1)\n",
      "Requirement already satisfied: py4j==0.10.9.7 in /opt/tljh/user/lib/python3.10/site-packages (from pyspark) (0.10.9.7)\n",
      "Note: you may need to restart the kernel to use updated packages.\n"
     ]
    }
   ],
   "source": [
    "pip install pyspark findspark #use findspark "
   ]
  },
  {
   "cell_type": "code",
   "execution_count": 7,
   "id": "3f502924-9338-4c14-ab08-eb2c7b769826",
   "metadata": {
    "tags": []
   },
   "outputs": [],
   "source": [
    "import findspark\n",
    "findspark.init()"
   ]
  },
  {
   "cell_type": "code",
   "execution_count": 7,
   "id": "94afbd77-e590-47d7-9b94-4dc6c6a21835",
   "metadata": {
    "tags": []
   },
   "outputs": [],
   "source": [
    "from pyspark.sql import SparkSession\n",
    "from pyspark.sql.functions import col,year #start pysparks session "
   ]
  },
  {
   "cell_type": "code",
   "execution_count": 8,
   "id": "925c6ae6-4404-425f-a4a0-e64dfd94af27",
   "metadata": {
    "tags": []
   },
   "outputs": [
    {
     "name": "stderr",
     "output_type": "stream",
     "text": [
      "Setting default log level to \"WARN\".\n",
      "To adjust logging level use sc.setLogLevel(newLevel). For SparkR, use setLogLevel(newLevel).\n",
      "24/10/05 12:11:30 WARN NativeCodeLoader: Unable to load native-hadoop library for your platform... using builtin-java classes where applicable\n"
     ]
    }
   ],
   "source": [
    "spark = SparkSession.builder.appName(\"Job Count\").getOrCreate()  #build session"
   ]
  },
  {
   "cell_type": "code",
   "execution_count": 9,
   "id": "9bbeb6af-52b7-4d3f-9446-341fa90d40ce",
   "metadata": {
    "tags": []
   },
   "outputs": [],
   "source": [
    "df = spark.read.csv(\"postings.csv\", header = True) #read csv "
   ]
  },
  {
   "cell_type": "code",
   "execution_count": 10,
   "id": "0dca074a-b043-4fa8-9fff-96284e103faa",
   "metadata": {
    "tags": []
   },
   "outputs": [
    {
     "name": "stderr",
     "output_type": "stream",
     "text": [
      "24/10/05 12:11:37 WARN SparkStringUtils: Truncated the string representation of a plan since it was too large. This behavior can be adjusted by setting 'spark.sql.debug.maxToStringFields'.\n"
     ]
    },
    {
     "name": "stdout",
     "output_type": "stream",
     "text": [
      "+--------------------+--------------------+--------------------+--------------------+----------+----------+---------+----------+---------------+----------+--------------------+-------------------+--------------------+--------------------+------------------+---------------+---------------+----------------+--------------------+---------------+--------------------------+-----------+-----------+--------------+-----------+---------+--------+-----------------+-----------------+--------+----+\n",
      "|              job_id|        company_name|               title|         description|max_salary|pay_period| location|company_id|          views|med_salary|          min_salary|formatted_work_type|             applies|original_listed_time|    remote_allowed|job_posting_url|application_url|application_type|              expiry|    closed_time|formatted_experience_level|skills_desc|listed_time|posting_domain|  sponsored|work_type|currency|compensation_type|normalized_salary|zip_code|fips|\n",
      "+--------------------+--------------------+--------------------+--------------------+----------+----------+---------+----------+---------------+----------+--------------------+-------------------+--------------------+--------------------+------------------+---------------+---------------+----------------+--------------------+---------------+--------------------------+-----------+-----------+--------------+-----------+---------+--------+-----------------+-----------------+--------+----+\n",
      "|              921716|Corcoran Sawyer S...|Marketing Coordin...|Job descriptionA ...|      NULL|      NULL|     NULL|      NULL|           NULL|      NULL|                NULL|               NULL|                NULL|                NULL|              NULL|           NULL|           NULL|            NULL|                NULL|           NULL|                      NULL|       NULL|       NULL|          NULL|       NULL|     NULL|    NULL|             NULL|             NULL|    NULL|NULL|\n",
      "|    Pay: $18-20/hour|                NULL|                NULL|                NULL|      NULL|      NULL|     NULL|      NULL|           NULL|      NULL|                NULL|               NULL|                NULL|                NULL|              NULL|           NULL|           NULL|            NULL|                NULL|           NULL|                      NULL|       NULL|       NULL|          NULL|       NULL|     NULL|    NULL|             NULL|             NULL|    NULL|NULL|\n",
      "|Expected hours: 3...|                NULL|                NULL|                NULL|      NULL|      NULL|     NULL|      NULL|           NULL|      NULL|                NULL|               NULL|                NULL|                NULL|              NULL|           NULL|           NULL|            NULL|                NULL|           NULL|                      NULL|       NULL|       NULL|          NULL|       NULL|     NULL|    NULL|             NULL|             NULL|    NULL|NULL|\n",
      "|Benefits:Paid tim...|                NULL|                NULL|                NULL|      NULL|      NULL|     NULL|      NULL|           NULL|      NULL|                NULL|               NULL|                NULL|                NULL|              NULL|           NULL|           NULL|            NULL|                NULL|           NULL|                      NULL|       NULL|       NULL|          NULL|       NULL|     NULL|    NULL|             NULL|             NULL|    NULL|NULL|\n",
      "|\",20.0,HOURLY,\"Pr...|                 NJ\"|           2774458.0|                20.0|      NULL|      17.0|Full-time|       2.0|1713397508000.0|      NULL|https://www.linke...|               NULL|  ComplexOnsiteApply|     1715989508000.0|              NULL|           NULL| Requirements: |            NULL|                NULL|           NULL|                      NULL|       NULL|       NULL|          NULL|       NULL|     NULL|    NULL|             NULL|             NULL|    NULL|NULL|\n",
      "|We are seeking a ...|        Architecture| Real Estate Deve...|     1713397508000.0|      NULL|         0|FULL_TIME|       USD|    BASE_SALARY|   38480.0|               08540|              34021|                NULL|                NULL|              NULL|           NULL|           NULL|            NULL|                NULL|           NULL|                      NULL|       NULL|       NULL|          NULL|       NULL|     NULL|    NULL|             NULL|             NULL|    NULL|NULL|\n",
      "|             1829192|                NULL|Mental Health The...|At Aspen Therapy ...|      NULL|      NULL|     NULL|      NULL|           NULL|      NULL|                NULL|               NULL|                NULL|                NULL|              NULL|           NULL|           NULL|            NULL|                NULL|           NULL|                      NULL|       NULL|       NULL|          NULL|       NULL|     NULL|    NULL|             NULL|             NULL|    NULL|NULL|\n",
      "|Thank you for tak...| we may be a good...|                NULL|                NULL|      NULL|      NULL|     NULL|      NULL|           NULL|      NULL|                NULL|               NULL|                NULL|                NULL|              NULL|           NULL|           NULL|            NULL|                NULL|           NULL|                      NULL|       NULL|       NULL|          NULL|       NULL|     NULL|    NULL|             NULL|             NULL|    NULL|NULL|\n",
      "|We are actively l...|       Fort Collins.|                NULL|                NULL|      NULL|      NULL|     NULL|      NULL|           NULL|      NULL|                NULL|               NULL|                NULL|                NULL|              NULL|           NULL|           NULL|            NULL|                NULL|           NULL|                      NULL|       NULL|       NULL|          NULL|       NULL|     NULL|    NULL|             NULL|             NULL|    NULL|NULL|\n",
      "|We value and are ...| gender equity an...|                NULL|                NULL|      NULL|      NULL|     NULL|      NULL|           NULL|      NULL|                NULL|               NULL|                NULL|                NULL|              NULL|           NULL|           NULL|            NULL|                NULL|           NULL|                      NULL|       NULL|       NULL|          NULL|       NULL|     NULL|    NULL|             NULL|             NULL|    NULL|NULL|\n",
      "|Position Requirem...| revising as nece...|                NULL|                NULL|      NULL|      NULL|     NULL|      NULL|           NULL|      NULL|                NULL|               NULL|                NULL|                NULL|              NULL|           NULL|           NULL|            NULL|                NULL|           NULL|                      NULL|       NULL|       NULL|          NULL|       NULL|     NULL|    NULL|             NULL|             NULL|    NULL|NULL|\n",
      "|About Aspen Thera...| working with a v...|                NULL|                NULL|      NULL|      NULL|     NULL|      NULL|           NULL|      NULL|                NULL|               NULL|                NULL|                NULL|              NULL|           NULL|           NULL|            NULL|                NULL|           NULL|                      NULL|       NULL|       NULL|          NULL|       NULL|     NULL|    NULL|             NULL|             NULL|    NULL|NULL|\n",
      "|Please note that ...|                50.0|              HOURLY|    Fort Collins, CO|      NULL|       1.0|     NULL|      30.0|      Full-time|      NULL|     1712857887000.0|               NULL|https://www.linke...|                NULL|ComplexOnsiteApply|1715449887000.0|           NULL|            NULL|                NULL|1712857887000.0|                      NULL|          0|  FULL_TIME|           USD|BASE_SALARY|  83200.0|   80521|            08069|             NULL|    NULL|NULL|\n",
      "|            10998357|The National Exem...|Assitant Restaura...|The National Exem...|      NULL|      NULL|     NULL|      NULL|           NULL|      NULL|                NULL|               NULL|                NULL|                NULL|              NULL|           NULL|           NULL|            NULL|                NULL|           NULL|                      NULL|       NULL|       NULL|          NULL|       NULL|     NULL|    NULL|             NULL|             NULL|    NULL|NULL|\n",
      "|We offer highly c...|          healthcare|       paid time off| complimentary di...|      NULL|      NULL|     NULL|      NULL|           NULL|      NULL|                NULL|               NULL|                NULL|                NULL|              NULL|           NULL|           NULL|            NULL|                NULL|           NULL|                      NULL|       NULL|       NULL|          NULL|       NULL|     NULL|    NULL|             NULL|             NULL|    NULL|NULL|\n",
      "|    We are a serious|        professional| long-standing ne...|                NULL|      NULL|      NULL|     NULL|      NULL|           NULL|      NULL|                NULL|               NULL|                NULL|                NULL|              NULL|           NULL|           NULL|            NULL|                NULL|           NULL|                      NULL|       NULL|       NULL|          NULL|       NULL|     NULL|    NULL|             NULL|             NULL|    NULL|NULL|\n",
      "|Please send a res...|             65000.0|              YEARLY|      Cincinnati, OH|64896719.0|       8.0|     NULL|   45000.0|      Full-time|      NULL|     1713277614000.0|               NULL|https://www.linke...|                NULL|ComplexOnsiteApply|1715869614000.0|           NULL|            NULL|We are currently ...|1713277614000.0|                      NULL|          0|  FULL_TIME|           USD|BASE_SALARY|  55000.0|   45202|            39061|             NULL|    NULL|NULL|\n",
      "|            23221523|Abrams Fensterman...|Senior Elder Law ...|Senior Associate ...|      NULL|      NULL|     NULL|      NULL|           NULL|      NULL|                NULL|               NULL|                NULL|                NULL|              NULL|           NULL|           NULL|            NULL|                NULL|           NULL|                      NULL|       NULL|       NULL|          NULL|       NULL|     NULL|    NULL|             NULL|             NULL|    NULL|NULL|\n",
      "|We are a prominen...| detail-oriented ...|      Administration| and Litigation a...|      NULL|      NULL|     NULL|      NULL|           NULL|      NULL|                NULL|               NULL|                NULL|                NULL|              NULL|           NULL|           NULL|            NULL|                NULL|           NULL|                      NULL|       NULL|       NULL|          NULL|       NULL|     NULL|    NULL|             NULL|             NULL|    NULL|NULL|\n",
      "| Responsibilities...|                NULL|                NULL|                NULL|      NULL|      NULL|     NULL|      NULL|           NULL|      NULL|                NULL|               NULL|                NULL|                NULL|              NULL|           NULL|           NULL|            NULL|                NULL|           NULL|                      NULL|       NULL|       NULL|          NULL|       NULL|     NULL|    NULL|             NULL|             NULL|    NULL|NULL|\n",
      "+--------------------+--------------------+--------------------+--------------------+----------+----------+---------+----------+---------------+----------+--------------------+-------------------+--------------------+--------------------+------------------+---------------+---------------+----------------+--------------------+---------------+--------------------------+-----------+-----------+--------------+-----------+---------+--------+-----------------+-----------------+--------+----+\n",
      "only showing top 20 rows\n",
      "\n"
     ]
    }
   ],
   "source": [
    "df.show() #show dataframe "
   ]
  },
  {
   "cell_type": "code",
   "execution_count": 11,
   "id": "c189e43c-0676-4f67-a9fd-01ea4350cae3",
   "metadata": {
    "tags": []
   },
   "outputs": [],
   "source": [
    "internships_df = df.filter(df['description'].rlike(\"(?i)intern\")) #check for intern in description"
   ]
  },
  {
   "cell_type": "code",
   "execution_count": 12,
   "id": "0f30dd73",
   "metadata": {
    "tags": []
   },
   "outputs": [
    {
     "name": "stdout",
     "output_type": "stream",
     "text": [
      "+--------------------+--------------------+--------------------+--------------------+--------------------+--------------------+--------------------+--------------------+---------+---------------+--------------------+-------------------+-------+--------------------+--------------+--------------------+---------------+-----------------+---------------+-----------+--------------------------+--------------------+---------------+--------------+---------+---------+--------+-----------------+-----------------+--------+-----+\n",
      "|              job_id|        company_name|               title|         description|          max_salary|          pay_period|            location|          company_id|    views|     med_salary|          min_salary|formatted_work_type|applies|original_listed_time|remote_allowed|     job_posting_url|application_url| application_type|         expiry|closed_time|formatted_experience_level|         skills_desc|    listed_time|posting_domain|sponsored|work_type|currency|compensation_type|normalized_salary|zip_code| fips|\n",
      "+--------------------+--------------------+--------------------+--------------------+--------------------+--------------------+--------------------+--------------------+---------+---------------+--------------------+-------------------+-------+--------------------+--------------+--------------------+---------------+-----------------+---------------+-----------+--------------------------+--------------------+---------------+--------------+---------+---------+--------+-----------------+-----------------+--------+-----+\n",
      "|            91700727|Downtown Raleigh ...|Economic Developm...|Job summary:The E...|                NULL|                NULL|                NULL|                NULL|     NULL|           NULL|                NULL|               NULL|   NULL|                NULL|          NULL|                NULL|           NULL|             NULL|           NULL|       NULL|                      NULL|                NULL|           NULL|          NULL|     NULL|     NULL|    NULL|             NULL|             NULL|    NULL| NULL|\n",
      "|Position Environm...| with the candida...|          Suite 1150| Raleigh NC. Offi...|                NULL|                NULL|                NULL|                NULL|     NULL|           NULL|                NULL|               NULL|   NULL|                NULL|          NULL|                NULL|           NULL|             NULL|           NULL|       NULL|                      NULL|                NULL|           NULL|          NULL|     NULL|     NULL|    NULL|             NULL|             NULL|    NULL| NULL|\n",
      "|            56482768|                NULL|Appalachian Highl...|FULL JOB DESCRIPT...|                NULL|                NULL|       Kingsport, TN|                NULL|      2.0|           NULL|                NULL|          Full-time|   NULL|     1712870267000.0|          NULL|https://www.linke...|           NULL|SimpleOnsiteApply|1715462267000.0|       NULL|                      NULL|Skills/Qualificat...|1712870267000.0|          NULL|        0|FULL_TIME|    NULL|             NULL|             NULL|   37660|47163|\n",
      "|           115639136|   Shannon Waltchack|          Controller|WORK @ SWShannon ...|                NULL|                NULL|                NULL|                NULL|     NULL|           NULL|                NULL|               NULL|   NULL|                NULL|          NULL|                NULL|           NULL|             NULL|           NULL|       NULL|                      NULL|                NULL|           NULL|          NULL|     NULL|     NULL|    NULL|             NULL|             NULL|    NULL| NULL|\n",
      "|           141969940|          PRM-TAIWAN|NPE 2024 Exhibiti...|\"NPE 2024 Exhibit...|                NULL|                NULL|                NULL|                NULL|     NULL|           NULL|                NULL|               NULL|   NULL|                NULL|          NULL|                NULL|           NULL|             NULL|           NULL|       NULL|                      NULL|                NULL|           NULL|          NULL|     NULL|     NULL|    NULL|             NULL|             NULL|    NULL| NULL|\n",
      "|           705356075|Blackland Home In...|TREC licensed Pro...|Candidate is requ...|                NULL|                NULL|                NULL|                NULL|     NULL|           NULL|                NULL|               NULL|   NULL|                NULL|          NULL|                NULL|           NULL|             NULL|           NULL|       NULL|                      NULL|                NULL|           NULL|          NULL|     NULL|     NULL|    NULL|             NULL|             NULL|    NULL| NULL|\n",
      "|          1014822088|             Tracker|Marketing Specialist|About TrackerTrac...|                NULL|                NULL|                NULL|                NULL|     NULL|           NULL|                NULL|               NULL|   NULL|                NULL|          NULL|                NULL|           NULL|             NULL|           NULL|       NULL|                      NULL|                NULL|           NULL|          NULL|     NULL|     NULL|    NULL|             NULL|             NULL|    NULL| NULL|\n",
      "|          1093227543|               POSHI|Sales Associate N...|OVERVIEW:Poshi LL...|                NULL|                NULL|                NULL|                NULL|     NULL|           NULL|                NULL|               NULL|   NULL|                NULL|          NULL|                NULL|           NULL|             NULL|           NULL|       NULL|                      NULL|                NULL|           NULL|          NULL|     NULL|     NULL|    NULL|             NULL|             NULL|    NULL| NULL|\n",
      "|          1129235875|TURNER HYDRAULICS...|Industrial Sales ...|&nbsp;Job descrip...|                NULL|                NULL|                NULL|                NULL|     NULL|           NULL|                NULL|               NULL|   NULL|                NULL|          NULL|                NULL|           NULL|             NULL|           NULL|       NULL|                      NULL|                NULL|           NULL|          NULL|     NULL|     NULL|    NULL|             NULL|             NULL|    NULL| NULL|\n",
      "|Required Experien...| Mid and Senior l...| et al is preferr...| FDA& internation...|                NULL|                NULL|                NULL|                NULL|     NULL|           NULL|                NULL|               NULL|   NULL|                NULL|          NULL|                NULL|           NULL|             NULL|           NULL|       NULL|                      NULL|                NULL|           NULL|          NULL|     NULL|     NULL|    NULL|             NULL|             NULL|    NULL| NULL|\n",
      "|          2735151240|    LT Apparel Group|Intern- Business ...|Summer Internship...|                NULL|                NULL|                NULL|                NULL|     NULL|           NULL|                NULL|               NULL|   NULL|                NULL|          NULL|                NULL|           NULL|             NULL|           NULL|       NULL|                      NULL|                NULL|           NULL|          NULL|     NULL|     NULL|    NULL|             NULL|             NULL|    NULL| NULL|\n",
      "|          2934066464|         Dynamic SRG|Fundraising Assoc...|The firm:Dynamic ...|                NULL|                NULL|New York City Met...|          10104312.0|     11.0|           NULL|                NULL|          Full-time|   NULL|     1712347292000.0|          NULL|https://www.linke...|           NULL|SimpleOnsiteApply|1714939292000.0|       NULL|                      NULL|                NULL|1712347292000.0|          NULL|        0|FULL_TIME|    NULL|             NULL|             NULL|    NULL| NULL|\n",
      "|          3040487795|            Lead Lab|Digital Marketing...|We are looking fo...|                NULL|                NULL|                NULL|                NULL|     NULL|           NULL|                NULL|               NULL|   NULL|                NULL|          NULL|                NULL|           NULL|             NULL|           NULL|       NULL|                      NULL|                NULL|           NULL|          NULL|     NULL|     NULL|    NULL|             NULL|             NULL|    NULL| NULL|\n",
      "|          3196627399|Bellevue Downtown...|Marketing & Commu...|Marketing & Commu...|                NULL|              HOURLY|        Bellevue, WA|             88304.0|      2.0|           17.0|                NULL|          Part-time|   NULL|     1713482516000.0|          NULL|https://www.linke...|           NULL|SimpleOnsiteApply|1716074516000.0|       NULL|                      NULL|                NULL|1713482516000.0|          NULL|        0|PART_TIME|     USD|      BASE_SALARY|          35360.0|   98004|53033|\n",
      "|          3379554375|Nebraska Public M...|    Finishing Editor|Nebraska Public M...|                NULL|                NULL|                NULL|                NULL|     NULL|           NULL|                NULL|               NULL|   NULL|                NULL|          NULL|                NULL|           NULL|             NULL|           NULL|       NULL|                      NULL|                NULL|           NULL|          NULL|     NULL|     NULL|    NULL|             NULL|             NULL|    NULL| NULL|\n",
      "|          3452435884|                NULL|     Account Manager|The ideal candida...|                NULL|                NULL|                NULL|                NULL|     NULL|           NULL|                NULL|               NULL|   NULL|                NULL|          NULL|                NULL|           NULL|             NULL|           NULL|       NULL|                      NULL|                NULL|           NULL|          NULL|     NULL|     NULL|    NULL|             NULL|             NULL|    NULL| NULL|\n",
      "|Qualifications re...| Master of Scienc...| work on multiple...| and manage assig...|    summer positions| school jobs)CPA ...|                NULL|                NULL|     NULL|           NULL|                NULL|               NULL|   NULL|                NULL|          NULL|                NULL|           NULL|             NULL|           NULL|       NULL|                      NULL|                NULL|           NULL|          NULL|     NULL|     NULL|    NULL|             NULL|             NULL|    NULL| NULL|\n",
      "|          3478651125|             Axalume|Photonics Layout ...|Job descriptionAx...|                NULL|                NULL|                NULL|                NULL|     NULL|           NULL|                NULL|               NULL|   NULL|                NULL|          NULL|                NULL|           NULL|             NULL|           NULL|       NULL|                      NULL|                NULL|           NULL|          NULL|     NULL|     NULL|    NULL|             NULL|             NULL|    NULL| NULL|\n",
      "|Job Description: ...|           materials| or an MBA is adv...| particularly in ...| including collab...| particularly wit...|         reliability| and a strong com...| firearms| sporting goods| and electronics ...|               NULL|   NULL|                NULL|          NULL|                NULL|           NULL|             NULL|           NULL|       NULL|                      NULL|                NULL|           NULL|          NULL|     NULL|     NULL|    NULL|             NULL|             NULL|    NULL| NULL|\n",
      "|          3586242087|                NULL|   Director of Sales|Company Descripti...|                NULL|                NULL|                NULL|                NULL|     NULL|           NULL|                NULL|               NULL|   NULL|                NULL|          NULL|                NULL|           NULL|             NULL|           NULL|       NULL|                      NULL|                NULL|           NULL|          NULL|     NULL|     NULL|    NULL|             NULL|             NULL|    NULL| NULL|\n",
      "+--------------------+--------------------+--------------------+--------------------+--------------------+--------------------+--------------------+--------------------+---------+---------------+--------------------+-------------------+-------+--------------------+--------------+--------------------+---------------+-----------------+---------------+-----------+--------------------------+--------------------+---------------+--------------+---------+---------+--------+-----------------+-----------------+--------+-----+\n",
      "only showing top 20 rows\n",
      "\n"
     ]
    }
   ],
   "source": [
    "internships_df.show() #look for searches "
   ]
  },
  {
   "cell_type": "code",
   "execution_count": 13,
   "id": "947f0757-c68b-4c96-a5d7-9ea60f606967",
   "metadata": {
    "tags": []
   },
   "outputs": [],
   "source": [
    "city_internship_counts = internships_df.groupBy('location').count() #look @ loaction "
   ]
  },
  {
   "cell_type": "code",
   "execution_count": 14,
   "id": "b326e660-461e-4bd9-b062-7ca5cd3bfa3a",
   "metadata": {
    "tags": []
   },
   "outputs": [],
   "source": [
    "city_internship_counts_sorted = city_internship_counts.orderBy(col('count').desc()) #count by columns "
   ]
  },
  {
   "cell_type": "code",
   "execution_count": 15,
   "id": "c1080eea-e0ed-48d8-9260-c998d4dbda15",
   "metadata": {
    "tags": []
   },
   "outputs": [
    {
     "name": "stderr",
     "output_type": "stream",
     "text": [
      "[Stage 3:>                                                          (0 + 8) / 8]\r"
     ]
    },
    {
     "name": "stdout",
     "output_type": "stream",
     "text": [
      "+--------------------+-----+\n",
      "|            location|count|\n",
      "+--------------------+-----+\n",
      "|                NULL| 6275|\n",
      "|       United States|  153|\n",
      "|        New York, NY|   43|\n",
      "| Anesthesiology a...|   33|\n",
      "| be asked to code...|   29|\n",
      "|New York City Met...|   28|\n",
      "|    offer assistance|   28|\n",
      "|         Chicago, IL|   25|\n",
      "|                 age|   23|\n",
      "|         Houston, TX|   21|\n",
      "|         Atlanta, GA|   19|\n",
      "|      Washington, DC|   18|\n",
      "| including spam/j...|   18|\n",
      "|New York, United ...|   17|\n",
      "|          Dallas, TX|   17|\n",
      "|          Boston, MA|   16|\n",
      "| and Israel and t...|   16|\n",
      "|               Excel|   13|\n",
      "|         Phoenix, AZ|   13|\n",
      "| the Company and ...|   13|\n",
      "+--------------------+-----+\n",
      "only showing top 20 rows\n",
      "\n"
     ]
    },
    {
     "name": "stderr",
     "output_type": "stream",
     "text": [
      "                                                                                \r"
     ]
    }
   ],
   "source": [
    "city_internship_counts_sorted.show() "
   ]
  },
  {
   "cell_type": "code",
   "execution_count": 16,
   "id": "57b6a435-119d-46c6-9dce-92ab8632d0bd",
   "metadata": {
    "tags": []
   },
   "outputs": [],
   "source": [
    "from pyspark.sql.functions import trim\n",
    "from pyspark.sql.functions import split"
   ]
  },
  {
   "cell_type": "code",
   "execution_count": 17,
   "id": "1f32e41a-804f-444e-8beb-1092b0c7a136",
   "metadata": {
    "tags": []
   },
   "outputs": [],
   "source": [
    "city_internship_counts_sorted = city_internship_counts_sorted.withColumn('location_clean', trim(col('location')))\n",
    " #trim by commas"
   ]
  },
  {
   "cell_type": "code",
   "execution_count": 18,
   "id": "c0cd8773-7f26-4449-a9d8-6621e34ca291",
   "metadata": {
    "tags": []
   },
   "outputs": [
    {
     "name": "stderr",
     "output_type": "stream",
     "text": [
      "[Stage 6:>                                                          (0 + 8) / 8]\r"
     ]
    },
    {
     "name": "stdout",
     "output_type": "stream",
     "text": [
      "+--------------------+-----+--------------------+\n",
      "|            location|count|      location_clean|\n",
      "+--------------------+-----+--------------------+\n",
      "|                NULL| 6275|                NULL|\n",
      "|       United States|  153|       United States|\n",
      "|        New York, NY|   43|        New York, NY|\n",
      "| Anesthesiology a...|   33|Anesthesiology an...|\n",
      "| be asked to code...|   29|be asked to code ...|\n",
      "|New York City Met...|   28|New York City Met...|\n",
      "|    offer assistance|   28|    offer assistance|\n",
      "|         Chicago, IL|   25|         Chicago, IL|\n",
      "|                 age|   23|                 age|\n",
      "|         Houston, TX|   21|         Houston, TX|\n",
      "|         Atlanta, GA|   19|         Atlanta, GA|\n",
      "|      Washington, DC|   18|      Washington, DC|\n",
      "| including spam/j...|   18|including spam/ju...|\n",
      "|New York, United ...|   17|New York, United ...|\n",
      "|          Dallas, TX|   17|          Dallas, TX|\n",
      "|          Boston, MA|   16|          Boston, MA|\n",
      "| and Israel and t...|   16|and Israel and tr...|\n",
      "|               Excel|   13|               Excel|\n",
      "|         Phoenix, AZ|   13|         Phoenix, AZ|\n",
      "| the Company and ...|   13|the Company and i...|\n",
      "+--------------------+-----+--------------------+\n",
      "only showing top 20 rows\n",
      "\n"
     ]
    },
    {
     "name": "stderr",
     "output_type": "stream",
     "text": [
      "                                                                                \r"
     ]
    }
   ],
   "source": [
    "city_internship_counts_sorted.show()"
   ]
  },
  {
   "cell_type": "code",
   "execution_count": 19,
   "id": "75e3799c-cda0-4c5b-8a8a-58b46db7bb7f",
   "metadata": {
    "tags": []
   },
   "outputs": [],
   "source": [
    "df_with_comma = city_internship_counts_sorted.filter(col('location').rlike(\",\")) #harmonize \n"
   ]
  },
  {
   "cell_type": "code",
   "execution_count": 20,
   "id": "5c0c65e3-b408-46dd-9b31-4a0667f0210a",
   "metadata": {
    "tags": []
   },
   "outputs": [
    {
     "name": "stderr",
     "output_type": "stream",
     "text": [
      "[Stage 9:>                                                          (0 + 8) / 8]\r"
     ]
    },
    {
     "name": "stdout",
     "output_type": "stream",
     "text": [
      "+--------------------+-----+--------------------+\n",
      "|            location|count|      location_clean|\n",
      "+--------------------+-----+--------------------+\n",
      "|        New York, NY|   43|        New York, NY|\n",
      "|         Chicago, IL|   25|         Chicago, IL|\n",
      "|         Houston, TX|   21|         Houston, TX|\n",
      "|         Atlanta, GA|   19|         Atlanta, GA|\n",
      "|      Washington, DC|   18|      Washington, DC|\n",
      "|          Dallas, TX|   17|          Dallas, TX|\n",
      "|New York, United ...|   17|New York, United ...|\n",
      "|          Boston, MA|   16|          Boston, MA|\n",
      "|         Phoenix, AZ|   13|         Phoenix, AZ|\n",
      "|       Charlotte, NC|   12|       Charlotte, NC|\n",
      "|      Greenville, SC|   11|      Greenville, SC|\n",
      "|Texas, United States|   11|Texas, United States|\n",
      "|       San Diego, CA|   11|       San Diego, CA|\n",
      "|          Austin, TX|   11|          Austin, TX|\n",
      "|          Denver, CO|   10|          Denver, CO|\n",
      "|         Raleigh, NC|   10|         Raleigh, NC|\n",
      "|           Greer, SC|   10|           Greer, SC|\n",
      "|           Tampa, FL|    9|           Tampa, FL|\n",
      "|         Seattle, WA|    9|         Seattle, WA|\n",
      "|    Indianapolis, IN|    8|    Indianapolis, IN|\n",
      "+--------------------+-----+--------------------+\n",
      "only showing top 20 rows\n",
      "\n"
     ]
    },
    {
     "name": "stderr",
     "output_type": "stream",
     "text": [
      "                                                                                \r"
     ]
    }
   ],
   "source": [
    "df_with_comma.show()"
   ]
  },
  {
   "cell_type": "code",
   "execution_count": 21,
   "id": "30e863cc-6948-4410-b8fe-00705f09b569",
   "metadata": {},
   "outputs": [],
   "source": [
    "df_with_comma = df_with_comma.drop(\"location\")"
   ]
  },
  {
   "cell_type": "code",
   "execution_count": 22,
   "id": "341e3b01-879c-4a7a-af5e-a51a634b21f8",
   "metadata": {
    "tags": []
   },
   "outputs": [],
   "source": [
    "df_with_comma = df_with_comma.select(\"location_clean\", \"count\") #clean locations"
   ]
  },
  {
   "cell_type": "code",
   "execution_count": 23,
   "id": "189d6ca6-7f15-4fae-9a09-3f30984127b4",
   "metadata": {},
   "outputs": [],
   "source": [
    "df_renamed = df_with_comma.withColumnRenamed(\"location_clean\", \"location\")"
   ]
  },
  {
   "cell_type": "code",
   "execution_count": 24,
   "id": "a2721ff2-e78f-41ff-a38b-adf1866cb0d3",
   "metadata": {
    "tags": []
   },
   "outputs": [
    {
     "name": "stderr",
     "output_type": "stream",
     "text": [
      "[Stage 12:>                                                         (0 + 8) / 8]\r"
     ]
    },
    {
     "name": "stdout",
     "output_type": "stream",
     "text": [
      "+--------------------+-----+\n",
      "|            location|count|\n",
      "+--------------------+-----+\n",
      "|        New York, NY|   43|\n",
      "|         Chicago, IL|   25|\n",
      "|         Houston, TX|   21|\n",
      "|         Atlanta, GA|   19|\n",
      "|      Washington, DC|   18|\n",
      "|          Dallas, TX|   17|\n",
      "|New York, United ...|   17|\n",
      "|          Boston, MA|   16|\n",
      "|         Phoenix, AZ|   13|\n",
      "|       Charlotte, NC|   12|\n",
      "|      Greenville, SC|   11|\n",
      "|Texas, United States|   11|\n",
      "|       San Diego, CA|   11|\n",
      "|          Austin, TX|   11|\n",
      "|          Denver, CO|   10|\n",
      "|         Raleigh, NC|   10|\n",
      "|           Greer, SC|   10|\n",
      "|           Tampa, FL|    9|\n",
      "|         Seattle, WA|    9|\n",
      "|    Indianapolis, IN|    8|\n",
      "+--------------------+-----+\n",
      "only showing top 20 rows\n",
      "\n"
     ]
    },
    {
     "name": "stderr",
     "output_type": "stream",
     "text": [
      "                                                                                \r"
     ]
    }
   ],
   "source": [
    "df_renamed.show() #show datas "
   ]
  },
  {
   "cell_type": "code",
   "execution_count": 25,
   "id": "bbb49921-05e7-4999-993c-5ee6d66a9de0",
   "metadata": {
    "tags": []
   },
   "outputs": [
    {
     "name": "stderr",
     "output_type": "stream",
     "text": [
      "                                                                                \r"
     ]
    }
   ],
   "source": [
    "pandas_df = df_renamed.toPandas() #print pandas "
   ]
  },
  {
   "cell_type": "code",
   "execution_count": 26,
   "id": "2048b340-ab32-48b6-8f17-d28eb4454258",
   "metadata": {
    "tags": []
   },
   "outputs": [],
   "source": [
    "df_filtered = pandas_df[~pandas_df['location'].isin([\"New York, United States\", \"Texas, United States\", \"California, United States\"])]"
   ]
  },
  {
   "cell_type": "code",
   "execution_count": 27,
   "id": "f4e908cb-64f6-4101-9b62-69ec9ac7a72c",
   "metadata": {
    "tags": []
   },
   "outputs": [
    {
     "name": "stdout",
     "output_type": "stream",
     "text": [
      "                               location  count\n",
      "0                          New York, NY     43\n",
      "1                           Chicago, IL     25\n",
      "2                           Houston, TX     21\n",
      "3                           Atlanta, GA     19\n",
      "4                        Washington, DC     18\n",
      "..                                  ...    ...\n",
      "496                           Ocala, FL      1\n",
      "497                            York, PA      1\n",
      "498  Albany, New York Metropolitan Area      1\n",
      "499                  Oakland County, MI      1\n",
      "500                          Newark, DE      1\n",
      "\n",
      "[498 rows x 2 columns]\n"
     ]
    }
   ],
   "source": [
    "print(df_filtered) #filtered data "
   ]
  },
  {
   "cell_type": "code",
   "execution_count": 28,
   "id": "b78f18bd-42d1-4b02-94a7-84f396de8522",
   "metadata": {
    "tags": []
   },
   "outputs": [],
   "source": [
    "locations_list = df_filtered['location'].to_list() #look @ list "
   ]
  },
  {
   "cell_type": "code",
   "execution_count": 29,
   "id": "7fd79859-72a4-4cc0-8bfd-6fa0df4f0e14",
   "metadata": {
    "tags": []
   },
   "outputs": [],
   "source": [
    "my_dict = df_filtered.set_index('location')['count'].to_dict()"
   ]
  },
  {
   "cell_type": "code",
   "execution_count": 30,
   "id": "0c9b1446-6e29-43f9-9834-93b45e81dc3b",
   "metadata": {
    "tags": []
   },
   "outputs": [
    {
     "name": "stdout",
     "output_type": "stream",
     "text": [
      "Nashville, TN 3\n",
      "Chattanooga, TN 3\n",
      "Columbia, TN 2\n",
      "Kingsport, TN 1\n",
      "Gallatin, TN 1\n",
      "Memphis, TN 1\n",
      "Franklin, TN 1\n",
      "Johnson City, TN 1\n"
     ]
    }
   ],
   "source": [
    "for key in my_dict.keys():\n",
    "    if \", TN\" in key:\n",
    "        print(key,my_dict[key])"
   ]
  },
  {
   "cell_type": "code",
   "execution_count": 31,
   "id": "0b55852e-df5d-4580-b553-8522ebf1d29d",
   "metadata": {
    "tags": []
   },
   "outputs": [],
   "source": [
    "df_first_20 = df_filtered.head(20)"
   ]
  },
  {
   "cell_type": "code",
   "execution_count": 32,
   "id": "e8dc1063-d274-449d-a809-8aac5b3aed15",
   "metadata": {
    "tags": []
   },
   "outputs": [],
   "source": [
    "list_of_locations = df_first_20[\"location\"].to_list()"
   ]
  },
  {
   "cell_type": "code",
   "execution_count": 33,
   "id": "80b6bcf6-305a-48f5-bbd2-e0c05516f06c",
   "metadata": {
    "tags": []
   },
   "outputs": [
    {
     "name": "stdout",
     "output_type": "stream",
     "text": [
      "['New York, NY', 'Chicago, IL', 'Houston, TX', 'Atlanta, GA', 'Washington, DC', 'Dallas, TX', 'Boston, MA', 'Phoenix, AZ', 'Charlotte, NC', 'San Diego, CA', 'Greenville, SC', 'Austin, TX', 'Denver, CO', 'Raleigh, NC', 'Greer, SC', 'Seattle, WA', 'Tampa, FL', 'Indianapolis, IN', 'Orlando, FL', 'Cincinnati, OH']\n"
     ]
    }
   ],
   "source": [
    "print(list_of_locations)"
   ]
  },
  {
   "cell_type": "code",
   "execution_count": 34,
   "id": "4911bda9-4d31-4717-83a5-26b68cb03834",
   "metadata": {
    "tags": []
   },
   "outputs": [],
   "source": [
    "counties = [\n",
    "    \"New York County\",  # New York, NY\n",
    "    \"Cook County\",  # Chicago, IL\n",
    "    \"Harris County\",  # Houston, TX\n",
    "    \"Fulton County\", # Atlanta, GA\n",
    "    \"Independent city\",  # Washington, DC\n",
    "    \"Dallas County\",  # Dallas, TX\n",
    "    \"Suffolk County\",  # Boston, MA\n",
    "    \"Maricopa County\",  # Phoenix, AZ\n",
    "    \"Mecklenburg County\",  # Charlotte, NC\n",
    "    \"San Diego County\",  # San Diego, CA\n",
    "    \"Greenville County\",  # Greenville, SC\n",
    "    \"Travis County\",  # Austin, TX\n",
    "    \"Denver County\",  # Denver, CO\n",
    "    \"Wake County\",  # Raleigh, NC\n",
    "    \"Greenville County\",  # Greer, SC\n",
    "    \"King County\",  # Seattle, WA\n",
    "    \"Hillsborough County\",  # Tampa, FL\n",
    "    \"Marion County\",  # Indianapolis, IN\n",
    "    \"Orange County\",  # Orlando, FL\n",
    "    \"Hamilton County\"  # Cincinnati, OH\n",
    "]\n"
   ]
  },
  {
   "cell_type": "code",
   "execution_count": 36,
   "id": "29449684-9372-4422-a7ac-429b4dbe1cc3",
   "metadata": {
    "tags": []
   },
   "outputs": [],
   "source": [
    "df_first_20.loc[:, 'County'] = counties"
   ]
  },
  {
   "cell_type": "code",
   "execution_count": 45,
   "id": "e4e16fde-0a80-4f3f-9a97-1f5dffb6901c",
   "metadata": {
    "tags": []
   },
   "outputs": [],
   "source": [
    "df_first_20 = df_first_20[['location', 'County', 'count']]"
   ]
  },
  {
   "cell_type": "code",
   "execution_count": 56,
   "id": "7212d7e9-7eeb-4c17-a278-cb4b48ce9542",
   "metadata": {
    "tags": []
   },
   "outputs": [
    {
     "data": {
      "text/html": [
       "<div>\n",
       "<style scoped>\n",
       "    .dataframe tbody tr th:only-of-type {\n",
       "        vertical-align: middle;\n",
       "    }\n",
       "\n",
       "    .dataframe tbody tr th {\n",
       "        vertical-align: top;\n",
       "    }\n",
       "\n",
       "    .dataframe thead th {\n",
       "        text-align: right;\n",
       "    }\n",
       "</style>\n",
       "<table border=\"1\" class=\"dataframe\">\n",
       "  <thead>\n",
       "    <tr style=\"text-align: right;\">\n",
       "      <th></th>\n",
       "      <th>location</th>\n",
       "      <th>County</th>\n",
       "      <th>Internship Postings</th>\n",
       "    </tr>\n",
       "  </thead>\n",
       "  <tbody>\n",
       "    <tr>\n",
       "      <th>0</th>\n",
       "      <td>New York, NY</td>\n",
       "      <td>New York County</td>\n",
       "      <td>43</td>\n",
       "    </tr>\n",
       "    <tr>\n",
       "      <th>1</th>\n",
       "      <td>Chicago, IL</td>\n",
       "      <td>Cook County</td>\n",
       "      <td>25</td>\n",
       "    </tr>\n",
       "    <tr>\n",
       "      <th>2</th>\n",
       "      <td>Houston, TX</td>\n",
       "      <td>Harris County</td>\n",
       "      <td>21</td>\n",
       "    </tr>\n",
       "    <tr>\n",
       "      <th>3</th>\n",
       "      <td>Atlanta, GA</td>\n",
       "      <td>Fulton County</td>\n",
       "      <td>19</td>\n",
       "    </tr>\n",
       "    <tr>\n",
       "      <th>4</th>\n",
       "      <td>Washington, DC</td>\n",
       "      <td>Independent city</td>\n",
       "      <td>18</td>\n",
       "    </tr>\n",
       "    <tr>\n",
       "      <th>5</th>\n",
       "      <td>Dallas, TX</td>\n",
       "      <td>Dallas County</td>\n",
       "      <td>17</td>\n",
       "    </tr>\n",
       "    <tr>\n",
       "      <th>7</th>\n",
       "      <td>Boston, MA</td>\n",
       "      <td>Suffolk County</td>\n",
       "      <td>16</td>\n",
       "    </tr>\n",
       "    <tr>\n",
       "      <th>8</th>\n",
       "      <td>Phoenix, AZ</td>\n",
       "      <td>Maricopa County</td>\n",
       "      <td>13</td>\n",
       "    </tr>\n",
       "    <tr>\n",
       "      <th>9</th>\n",
       "      <td>Charlotte, NC</td>\n",
       "      <td>Mecklenburg County</td>\n",
       "      <td>12</td>\n",
       "    </tr>\n",
       "    <tr>\n",
       "      <th>11</th>\n",
       "      <td>San Diego, CA</td>\n",
       "      <td>San Diego County</td>\n",
       "      <td>11</td>\n",
       "    </tr>\n",
       "    <tr>\n",
       "      <th>12</th>\n",
       "      <td>Greenville, SC</td>\n",
       "      <td>Greenville County</td>\n",
       "      <td>11</td>\n",
       "    </tr>\n",
       "    <tr>\n",
       "      <th>13</th>\n",
       "      <td>Austin, TX</td>\n",
       "      <td>Travis County</td>\n",
       "      <td>11</td>\n",
       "    </tr>\n",
       "    <tr>\n",
       "      <th>14</th>\n",
       "      <td>Denver, CO</td>\n",
       "      <td>Denver County</td>\n",
       "      <td>10</td>\n",
       "    </tr>\n",
       "    <tr>\n",
       "      <th>15</th>\n",
       "      <td>Raleigh, NC</td>\n",
       "      <td>Wake County</td>\n",
       "      <td>10</td>\n",
       "    </tr>\n",
       "    <tr>\n",
       "      <th>16</th>\n",
       "      <td>Greer, SC</td>\n",
       "      <td>Greenville County</td>\n",
       "      <td>10</td>\n",
       "    </tr>\n",
       "    <tr>\n",
       "      <th>17</th>\n",
       "      <td>Seattle, WA</td>\n",
       "      <td>King County</td>\n",
       "      <td>9</td>\n",
       "    </tr>\n",
       "    <tr>\n",
       "      <th>18</th>\n",
       "      <td>Tampa, FL</td>\n",
       "      <td>Hillsborough County</td>\n",
       "      <td>9</td>\n",
       "    </tr>\n",
       "    <tr>\n",
       "      <th>19</th>\n",
       "      <td>Indianapolis, IN</td>\n",
       "      <td>Marion County</td>\n",
       "      <td>8</td>\n",
       "    </tr>\n",
       "    <tr>\n",
       "      <th>21</th>\n",
       "      <td>Orlando, FL</td>\n",
       "      <td>Orange County</td>\n",
       "      <td>8</td>\n",
       "    </tr>\n",
       "    <tr>\n",
       "      <th>22</th>\n",
       "      <td>Cincinnati, OH</td>\n",
       "      <td>Hamilton County</td>\n",
       "      <td>7</td>\n",
       "    </tr>\n",
       "  </tbody>\n",
       "</table>\n",
       "</div>"
      ],
      "text/plain": [
       "            location               County  Internship Postings\n",
       "0       New York, NY      New York County                   43\n",
       "1        Chicago, IL          Cook County                   25\n",
       "2        Houston, TX        Harris County                   21\n",
       "3        Atlanta, GA        Fulton County                   19\n",
       "4     Washington, DC     Independent city                   18\n",
       "5         Dallas, TX        Dallas County                   17\n",
       "7         Boston, MA       Suffolk County                   16\n",
       "8        Phoenix, AZ      Maricopa County                   13\n",
       "9      Charlotte, NC   Mecklenburg County                   12\n",
       "11     San Diego, CA     San Diego County                   11\n",
       "12    Greenville, SC    Greenville County                   11\n",
       "13        Austin, TX        Travis County                   11\n",
       "14        Denver, CO        Denver County                   10\n",
       "15       Raleigh, NC          Wake County                   10\n",
       "16         Greer, SC    Greenville County                   10\n",
       "17       Seattle, WA          King County                    9\n",
       "18         Tampa, FL  Hillsborough County                    9\n",
       "19  Indianapolis, IN        Marion County                    8\n",
       "21       Orlando, FL        Orange County                    8\n",
       "22    Cincinnati, OH      Hamilton County                    7"
      ]
     },
     "execution_count": 56,
     "metadata": {},
     "output_type": "execute_result"
    }
   ],
   "source": [
    "df_first_20.rename(columns={'count': 'Internship Postings'}) #get the postings"
   ]
  },
  {
   "cell_type": "code",
   "execution_count": 57,
   "id": "4052fa0d-9152-4324-8d8a-1de7f03b2243",
   "metadata": {
    "tags": []
   },
   "outputs": [
    {
     "name": "stdout",
     "output_type": "stream",
     "text": [
      "            location               County  count\n",
      "0       New York, NY      New York County     43\n",
      "1        Chicago, IL          Cook County     25\n",
      "2        Houston, TX        Harris County     21\n",
      "3        Atlanta, GA        Fulton County     19\n",
      "4     Washington, DC     Independent city     18\n",
      "5         Dallas, TX        Dallas County     17\n",
      "7         Boston, MA       Suffolk County     16\n",
      "8        Phoenix, AZ      Maricopa County     13\n",
      "9      Charlotte, NC   Mecklenburg County     12\n",
      "11     San Diego, CA     San Diego County     11\n",
      "12    Greenville, SC    Greenville County     11\n",
      "13        Austin, TX        Travis County     11\n",
      "14        Denver, CO        Denver County     10\n",
      "15       Raleigh, NC          Wake County     10\n",
      "16         Greer, SC    Greenville County     10\n",
      "17       Seattle, WA          King County      9\n",
      "18         Tampa, FL  Hillsborough County      9\n",
      "19  Indianapolis, IN        Marion County      8\n",
      "21       Orlando, FL        Orange County      8\n",
      "22    Cincinnati, OH      Hamilton County      7\n"
     ]
    }
   ],
   "source": [
    "print(df_first_20) #print the counties "
   ]
  },
  {
   "cell_type": "code",
   "execution_count": 48,
   "id": "efafb9b0-f370-4767-bc98-fac87bf4c185",
   "metadata": {
    "tags": []
   },
   "outputs": [],
   "source": [
    "new_series = df_first_20[\"County\"]"
   ]
  },
  {
   "cell_type": "code",
   "execution_count": 49,
   "id": "e9de145d-35ea-46ab-84cf-cab738013eca",
   "metadata": {
    "tags": []
   },
   "outputs": [],
   "source": [
    "new_df = new_series.to_frame()"
   ]
  },
  {
   "cell_type": "code",
   "execution_count": 50,
   "id": "994b19e5-0492-4561-9978-d0db0c3345f7",
   "metadata": {
    "tags": []
   },
   "outputs": [
    {
     "name": "stdout",
     "output_type": "stream",
     "text": [
      "                 County\n",
      "0       New York County\n",
      "1           Cook County\n",
      "2         Harris County\n",
      "3         Fulton County\n",
      "4      Independent city\n",
      "5         Dallas County\n",
      "7        Suffolk County\n",
      "8       Maricopa County\n",
      "9    Mecklenburg County\n",
      "11     San Diego County\n",
      "12    Greenville County\n",
      "13        Travis County\n",
      "14        Denver County\n",
      "15          Wake County\n",
      "16    Greenville County\n",
      "17          King County\n",
      "18  Hillsborough County\n",
      "19        Marion County\n",
      "21        Orange County\n",
      "22      Hamilton County\n"
     ]
    }
   ],
   "source": [
    "print(new_df)"
   ]
  },
  {
   "cell_type": "code",
   "execution_count": 1,
   "id": "c8ce5db7-2bf2-46f5-b8dc-d87a9eb088b0",
   "metadata": {
    "tags": []
   },
   "outputs": [
    {
     "ename": "NameError",
     "evalue": "name 'df_first_20' is not defined",
     "output_type": "error",
     "traceback": [
      "\u001b[0;31m---------------------------------------------------------------------------\u001b[0m",
      "\u001b[0;31mNameError\u001b[0m                                 Traceback (most recent call last)",
      "Cell \u001b[0;32mIn[1], line 1\u001b[0m\n\u001b[0;32m----> 1\u001b[0m internship_postings \u001b[38;5;241m=\u001b[39m \u001b[43mdf_first_20\u001b[49m[\u001b[38;5;124m\"\u001b[39m\u001b[38;5;124mcount\u001b[39m\u001b[38;5;124m\"\u001b[39m]\n",
      "\u001b[0;31mNameError\u001b[0m: name 'df_first_20' is not defined"
     ]
    }
   ],
   "source": [
    "internship_postings = df_first_20[\"count\"]"
   ]
  },
  {
   "cell_type": "code",
   "execution_count": 59,
   "id": "0b3707ac-fd4d-45e4-ab56-8a73eff98231",
   "metadata": {
    "tags": []
   },
   "outputs": [],
   "source": [
    "new_df[\"Internship Postings by County\"] = internship_postings "
   ]
  },
  {
   "cell_type": "code",
   "execution_count": 60,
   "id": "2a891a09-df6c-481e-9ce1-7dc728ac50ba",
   "metadata": {
    "tags": []
   },
   "outputs": [
    {
     "name": "stdout",
     "output_type": "stream",
     "text": [
      "                 County  Internship Postings by County\n",
      "0       New York County                             43\n",
      "1           Cook County                             25\n",
      "2         Harris County                             21\n",
      "3         Fulton County                             19\n",
      "4      Independent city                             18\n",
      "5         Dallas County                             17\n",
      "7        Suffolk County                             16\n",
      "8       Maricopa County                             13\n",
      "9    Mecklenburg County                             12\n",
      "11     San Diego County                             11\n",
      "12    Greenville County                             11\n",
      "13        Travis County                             11\n",
      "14        Denver County                             10\n",
      "15          Wake County                             10\n",
      "16    Greenville County                             10\n",
      "17          King County                              9\n",
      "18  Hillsborough County                              9\n",
      "19        Marion County                              8\n",
      "21        Orange County                              8\n",
      "22      Hamilton County                              7\n"
     ]
    }
   ],
   "source": [
    "print(new_df)"
   ]
  },
  {
   "cell_type": "code",
   "execution_count": 54,
   "id": "0304b4d2-1ccd-4ffa-94ce-eb6b703f3381",
   "metadata": {
    "tags": []
   },
   "outputs": [
    {
     "name": "stdout",
     "output_type": "stream",
     "text": [
      "                 County\n",
      "0       New York County\n",
      "1           Cook County\n",
      "2         Harris County\n",
      "3         Fulton County\n",
      "4      Independent city\n",
      "5         Dallas County\n",
      "7        Suffolk County\n",
      "8       Maricopa County\n",
      "9    Mecklenburg County\n",
      "11     San Diego County\n",
      "12    Greenville County\n",
      "13        Travis County\n",
      "14        Denver County\n",
      "15          Wake County\n",
      "16    Greenville County\n",
      "17          King County\n",
      "18  Hillsborough County\n",
      "19        Marion County\n",
      "21        Orange County\n",
      "22      Hamilton County\n"
     ]
    }
   ],
   "source": [
    "new_df.to_csv(\"internships_by_county.csv\", index = False)"
   ]
  },
  {
   "cell_type": "code",
   "execution_count": 63,
   "id": "be36e90f-c383-40c0-b674-9bc2e47f17c5",
   "metadata": {},
   "outputs": [
    {
     "name": "stdout",
     "output_type": "stream",
     "text": [
      "/bin/bash: line 1: 2: No such file or directory\n",
      "Note: you may need to restart the kernel to use updated packages.\n"
     ]
    }
   ],
   "source": [
    "pip install numpy<2"
   ]
  },
  {
   "cell_type": "code",
   "execution_count": 3,
   "id": "96cc408d-3ee6-4859-913a-b8504f1dd1c9",
   "metadata": {
    "tags": []
   },
   "outputs": [
    {
     "name": "stdout",
     "output_type": "stream",
     "text": [
      "Requirement already satisfied: numpy in ./.local/lib/python3.10/site-packages (2.1.1)\n",
      "Note: you may need to restart the kernel to use updated packages.\n"
     ]
    }
   ],
   "source": [
    "pip install numpy"
   ]
  },
  {
   "cell_type": "code",
   "execution_count": 8,
   "id": "f74bac9d-3f35-462d-ad6a-4cea2a0309c3",
   "metadata": {
    "tags": []
   },
   "outputs": [
    {
     "name": "stdout",
     "output_type": "stream",
     "text": [
      "Requirement already satisfied: numpy in /opt/tljh/user/lib/python3.10/site-packages (1.26.4)\n",
      "Note: you may need to restart the kernel to use updated packages.\n"
     ]
    }
   ],
   "source": [
    "%pip install numpy"
   ]
  },
  {
   "cell_type": "code",
   "execution_count": 12,
   "id": "2f428199-b06a-42c4-9a46-87229bd5f67d",
   "metadata": {
    "tags": []
   },
   "outputs": [],
   "source": [
    "import numpy as np"
   ]
  },
  {
   "cell_type": "code",
   "execution_count": 16,
   "id": "b27c3035-6d06-4bdf-8b7c-03ba77dfc1ee",
   "metadata": {
    "tags": []
   },
   "outputs": [
    {
     "name": "stdout",
     "output_type": "stream",
     "text": [
      "Collecting seaborn\n",
      "  Downloading seaborn-0.13.2-py3-none-any.whl.metadata (5.4 kB)\n",
      "Requirement already satisfied: numpy!=1.24.0,>=1.20 in /opt/tljh/user/lib/python3.10/site-packages (from seaborn) (1.26.4)\n",
      "Requirement already satisfied: pandas>=1.2 in ./.local/lib/python3.10/site-packages (from seaborn) (2.2.3)\n",
      "Requirement already satisfied: matplotlib!=3.6.1,>=3.4 in /opt/tljh/user/lib/python3.10/site-packages (from seaborn) (3.8.1)\n",
      "Requirement already satisfied: contourpy>=1.0.1 in /opt/tljh/user/lib/python3.10/site-packages (from matplotlib!=3.6.1,>=3.4->seaborn) (1.1.1)\n",
      "Requirement already satisfied: cycler>=0.10 in /opt/tljh/user/lib/python3.10/site-packages (from matplotlib!=3.6.1,>=3.4->seaborn) (0.12.1)\n",
      "Requirement already satisfied: fonttools>=4.22.0 in /opt/tljh/user/lib/python3.10/site-packages (from matplotlib!=3.6.1,>=3.4->seaborn) (4.43.1)\n",
      "Requirement already satisfied: kiwisolver>=1.3.1 in /opt/tljh/user/lib/python3.10/site-packages (from matplotlib!=3.6.1,>=3.4->seaborn) (1.4.5)\n",
      "Requirement already satisfied: packaging>=20.0 in /opt/tljh/user/lib/python3.10/site-packages (from matplotlib!=3.6.1,>=3.4->seaborn) (23.2)\n",
      "Requirement already satisfied: pillow>=8 in /opt/tljh/user/lib/python3.10/site-packages (from matplotlib!=3.6.1,>=3.4->seaborn) (10.1.0)\n",
      "Requirement already satisfied: pyparsing>=2.3.1 in /opt/tljh/user/lib/python3.10/site-packages (from matplotlib!=3.6.1,>=3.4->seaborn) (3.1.1)\n",
      "Requirement already satisfied: python-dateutil>=2.7 in /opt/tljh/user/lib/python3.10/site-packages (from matplotlib!=3.6.1,>=3.4->seaborn) (2.8.2)\n",
      "Requirement already satisfied: pytz>=2020.1 in /opt/tljh/user/lib/python3.10/site-packages (from pandas>=1.2->seaborn) (2023.3.post1)\n",
      "Requirement already satisfied: tzdata>=2022.7 in ./.local/lib/python3.10/site-packages (from pandas>=1.2->seaborn) (2024.2)\n",
      "Requirement already satisfied: six>=1.5 in /opt/tljh/user/lib/python3.10/site-packages (from python-dateutil>=2.7->matplotlib!=3.6.1,>=3.4->seaborn) (1.16.0)\n",
      "Downloading seaborn-0.13.2-py3-none-any.whl (294 kB)\n",
      "Installing collected packages: seaborn\n",
      "Successfully installed seaborn-0.13.2\n",
      "Note: you may need to restart the kernel to use updated packages.\n"
     ]
    }
   ],
   "source": [
    "pip install seaborn"
   ]
  },
  {
   "cell_type": "code",
   "execution_count": null,
   "id": "e5583805-1dd2-4c01-bb48-bf9f4780f1e8",
   "metadata": {},
   "outputs": [],
   "source": []
  }
 ],
 "metadata": {
  "kernelspec": {
   "display_name": "Python 3 (ipykernel)",
   "language": "python",
   "name": "python3"
  },
  "language_info": {
   "codemirror_mode": {
    "name": "ipython",
    "version": 3
   },
   "file_extension": ".py",
   "mimetype": "text/x-python",
   "name": "python",
   "nbconvert_exporter": "python",
   "pygments_lexer": "ipython3",
   "version": "3.10.10"
  }
 },
 "nbformat": 4,
 "nbformat_minor": 5
}
